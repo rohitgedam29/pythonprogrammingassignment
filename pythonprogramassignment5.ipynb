{
 "cells": [
  {
   "cell_type": "markdown",
   "id": "429ac5dd",
   "metadata": {},
   "source": [
    "# Que 1. Write a Python Program to Find LCM?"
   ]
  },
  {
   "cell_type": "code",
   "execution_count": 7,
   "id": "61daebf2",
   "metadata": {},
   "outputs": [
    {
     "name": "stdout",
     "output_type": "stream",
     "text": [
      "The L.C.M. is 324\n"
     ]
    }
   ],
   "source": [
    "def lcm(x,y):\n",
    "    \n",
    "    if x>y:\n",
    "        greater = x\n",
    "    else:\n",
    "        greater = y\n",
    "        \n",
    "    while(True) :\n",
    "        if((greater % x==0) and (greater %y == 0)):\n",
    "            lcm = greater\n",
    "            break\n",
    "        greater += 1\n",
    "        \n",
    "    return lcm\n",
    "\n",
    "num1 = 12\n",
    "num2 = 81\n",
    "\n",
    "print(\"The L.C.M. is\", lcm(num1,num2))\n",
    "            "
   ]
  },
  {
   "cell_type": "markdown",
   "id": "fbb0e133",
   "metadata": {},
   "source": [
    "# Que 2. Write a Python Program to Find HCF?"
   ]
  },
  {
   "cell_type": "code",
   "execution_count": 8,
   "id": "ba81ace6",
   "metadata": {},
   "outputs": [
    {
     "name": "stdout",
     "output_type": "stream",
     "text": [
      "The H.C.F. is 6\n"
     ]
    }
   ],
   "source": [
    "def hcf(x,y):\n",
    "    \n",
    "    if x>y:\n",
    "        smaller = y\n",
    "    else:\n",
    "        smaller = x\n",
    "    for i in range(1,smaller+1):\n",
    "        if((x%i==0) and (y%i ==0)):\n",
    "            hcf = i\n",
    "    return hcf\n",
    "\n",
    "num1 = 54\n",
    "num2 = 24\n",
    "\n",
    "print(\"The H.C.F. is\", hcf(num1,num2))"
   ]
  },
  {
   "cell_type": "markdown",
   "id": "33d250e5",
   "metadata": {},
   "source": [
    "# Que 3. Write a Python Program to Convert Decimal to Binary, Octal and Hexadecimal?"
   ]
  },
  {
   "cell_type": "code",
   "execution_count": 11,
   "id": "eccb3a71",
   "metadata": {},
   "outputs": [
    {
     "name": "stdout",
     "output_type": "stream",
     "text": [
      "Enter a number-76\n",
      "76 in binary =  0b1001100\n",
      "76 in octal = 0o114\n",
      "76 in Hexadecimal = 0x4c\n"
     ]
    }
   ],
   "source": [
    "decimal_number = int(input(\"Enter a number-\"))\n",
    "\n",
    "\n",
    "print(decimal_number,\"in binary = \", bin(decimal_number))\n",
    "print(decimal_number,\"in octal =\", oct(decimal_number))\n",
    "print(decimal_number,\"in Hexadecimal =\", hex(decimal_number))"
   ]
  },
  {
   "cell_type": "markdown",
   "id": "63209a04",
   "metadata": {},
   "source": [
    "# Que 4. Write a Python Program To Find ASCII value of a character?"
   ]
  },
  {
   "cell_type": "code",
   "execution_count": 13,
   "id": "df58da65",
   "metadata": {},
   "outputs": [
    {
     "name": "stdout",
     "output_type": "stream",
     "text": [
      "enter a character r\n",
      "The ASCII value of  r is 114\n"
     ]
    }
   ],
   "source": [
    "character = input(\"enter a character \")\n",
    "\n",
    "print(\"The ASCII value of \" , character, \"is\", ord(character))"
   ]
  },
  {
   "cell_type": "markdown",
   "id": "5cd606d9",
   "metadata": {},
   "source": [
    "# Que 5. Write a Python Program to Make a Simple Calculator with 4 basic mathematical operations?"
   ]
  },
  {
   "cell_type": "code",
   "execution_count": null,
   "id": "1dcbca15",
   "metadata": {},
   "outputs": [
    {
     "name": "stdout",
     "output_type": "stream",
     "text": [
      "select operation to be performed\n",
      "1. Add\n",
      "2. Subtract\n",
      "3. multiply \n",
      "4. divide\n",
      "Enter your choice (1/2/3/4):- 67\n",
      "Invalid Input\n",
      "Enter your choice (1/2/3/4):- 2\n",
      "Enter first number 67\n",
      "Enter second number 50\n",
      "67.0 - 50.0 = 17.0\n",
      "Enter your choice (1/2/3/4):- 4\n",
      "Enter first number 100\n",
      "Enter second number 25\n",
      "100.0 / 25.0 = 4.0\n"
     ]
    }
   ],
   "source": [
    "def add(x,y):\n",
    "    return x+y\n",
    "\n",
    "def subtract(x,y):\n",
    "    return x-y\n",
    "\n",
    "def multiply(x,y):\n",
    "    return x*y\n",
    "\n",
    "def divide(x,y):\n",
    "    return x/y\n",
    "\n",
    "print(\"select operation to be performed\")\n",
    "print(\"1. Add\")\n",
    "print(\"2. Subtract\")\n",
    "print(\"3. multiply \")\n",
    "print(\"4. divide\") \n",
    "\n",
    "while True:\n",
    "    choice = input(\"Enter your choice (1/2/3/4):- \")\n",
    "    \n",
    "    if choice in ('1','2','3','4'):\n",
    "        num1 = float(input(\"Enter first number \"))\n",
    "        num2 = float(input(\"Enter second number \"))\n",
    "        \n",
    "        if choice == '1':\n",
    "            print(num1, \"+\", num2, \"=\", add(num1,num2))\n",
    "            \n",
    "        elif choice == '2':\n",
    "            print(num1, \"-\", num2, \"=\", subtract(num1,num2))\n",
    "            \n",
    "        elif choice == '3':\n",
    "            print(num1, \"*\", num2, \"=\", multiply(num1,num2))\n",
    "            \n",
    "        elif choice == '4':\n",
    "            print(num1, \"/\", num2, \"=\", divide(num1,num2) )\n",
    "            \n",
    "            \n",
    "            \n",
    "    else:\n",
    "        print(\"Invalid Input\")"
   ]
  },
  {
   "cell_type": "code",
   "execution_count": null,
   "id": "71f62f15",
   "metadata": {},
   "outputs": [],
   "source": []
  },
  {
   "cell_type": "code",
   "execution_count": null,
   "id": "b3755ef6",
   "metadata": {},
   "outputs": [],
   "source": []
  },
  {
   "cell_type": "code",
   "execution_count": null,
   "id": "e9b5fe95",
   "metadata": {},
   "outputs": [],
   "source": []
  },
  {
   "cell_type": "code",
   "execution_count": null,
   "id": "feb79fa1",
   "metadata": {},
   "outputs": [],
   "source": []
  },
  {
   "cell_type": "code",
   "execution_count": null,
   "id": "6118ca05",
   "metadata": {},
   "outputs": [],
   "source": []
  },
  {
   "cell_type": "code",
   "execution_count": null,
   "id": "fdd5d7ce",
   "metadata": {},
   "outputs": [],
   "source": []
  },
  {
   "cell_type": "code",
   "execution_count": null,
   "id": "f685707a",
   "metadata": {},
   "outputs": [],
   "source": []
  }
 ],
 "metadata": {
  "kernelspec": {
   "display_name": "Python 3 (ipykernel)",
   "language": "python",
   "name": "python3"
  },
  "language_info": {
   "codemirror_mode": {
    "name": "ipython",
    "version": 3
   },
   "file_extension": ".py",
   "mimetype": "text/x-python",
   "name": "python",
   "nbconvert_exporter": "python",
   "pygments_lexer": "ipython3",
   "version": "3.9.7"
  }
 },
 "nbformat": 4,
 "nbformat_minor": 5
}
