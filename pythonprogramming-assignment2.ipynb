{
 "cells": [
  {
   "cell_type": "code",
   "execution_count": null,
   "id": "0ccd001f",
   "metadata": {},
   "outputs": [],
   "source": [
    "Que 1. Write a Python program to convert kilometers to miles?"
   ]
  },
  {
   "cell_type": "code",
   "execution_count": 21,
   "id": "aee89990",
   "metadata": {},
   "outputs": [
    {
     "name": "stdout",
     "output_type": "stream",
     "text": [
      "Enter value in kilometers : 4.9\n",
      "4.90 kilometers in miles =3.04 miles\n"
     ]
    }
   ],
   "source": [
    "kilometers = float(input(\"Enter value in kilometers : \"))\n",
    "\n",
    "conversion_factor = 0.621371                         #1kilometer = 0.621371miles\n",
    "miles = (kilometers*conversion_factor)\n",
    "\n",
    "print(\"%0.2f kilometers in miles =%0.2f miles\"  %(kilometers,miles))"
   ]
  },
  {
   "cell_type": "code",
   "execution_count": null,
   "id": "2391354d",
   "metadata": {},
   "outputs": [],
   "source": [
    "Que 2. Write a Python program to convert Celsius to Fahrenheit?"
   ]
  },
  {
   "cell_type": "code",
   "execution_count": 29,
   "id": "232249fa",
   "metadata": {
    "scrolled": true
   },
   "outputs": [
    {
     "name": "stdout",
     "output_type": "stream",
     "text": [
      "enter the temperature in celcius 32\n",
      "32.00 degree celcius in fahrenheit = 89.60 fahrenheit\n"
     ]
    }
   ],
   "source": [
    "cel = float(input(\"enter the temperature in celcius \"))\n",
    "fh  = ((cel*1.8)+32)\n",
    "\n",
    "print(\"%0.2f degree celcius in fahrenheit = %0.2f fahrenheit\" %(cel,fh))            \n",
    "          "
   ]
  },
  {
   "cell_type": "code",
   "execution_count": null,
   "id": "c881e47c",
   "metadata": {},
   "outputs": [],
   "source": [
    "Que 3. Write a Python program to display calendar"
   ]
  },
  {
   "cell_type": "code",
   "execution_count": 30,
   "id": "816f1ba0",
   "metadata": {},
   "outputs": [
    {
     "name": "stdout",
     "output_type": "stream",
     "text": [
      "    August 2022\n",
      "Mo Tu We Th Fr Sa Su\n",
      " 1  2  3  4  5  6  7\n",
      " 8  9 10 11 12 13 14\n",
      "15 16 17 18 19 20 21\n",
      "22 23 24 25 26 27 28\n",
      "29 30 31\n",
      "\n"
     ]
    }
   ],
   "source": [
    "import calendar\n",
    "\n",
    "yy = 2022\n",
    "mm = 8\n",
    "\n",
    "print(calendar.month(yy,mm))"
   ]
  },
  {
   "cell_type": "code",
   "execution_count": null,
   "id": "293aaec8",
   "metadata": {},
   "outputs": [],
   "source": [
    "Que.4 Write a Python program to solve quadratic equation?"
   ]
  },
  {
   "cell_type": "code",
   "execution_count": 31,
   "id": "a863513d",
   "metadata": {},
   "outputs": [
    {
     "data": {
      "text/plain": [
       "('Roots are real and different ', 0.3166247903553998, -6.3166247903554)"
      ]
     },
     "execution_count": 31,
     "metadata": {},
     "output_type": "execute_result"
    }
   ],
   "source": [
    "import math\n",
    "def equation_roots(a,b,c) :\n",
    "    disc = (b**b) - 4*(a*c)\n",
    "    squdisc = disc**.5\n",
    "    if disc > 0 :\n",
    "        return (\"Roots are real and different \",(-b+squdisc),(-b-squdisc))\n",
    "    elif disc == 0 :\n",
    "        return (\"Roots are real and same \",(-b/(2*a)))\n",
    "    else :\n",
    "        return (\"Having Complex Roots\")\n",
    "equation_roots(2,3,2)    "
   ]
  },
  {
   "cell_type": "code",
   "execution_count": null,
   "id": "eb51a1cf",
   "metadata": {},
   "outputs": [],
   "source": [
    "Que 5. Write a Python program to swap two variables without temp variable?"
   ]
  },
  {
   "cell_type": "code",
   "execution_count": 32,
   "id": "80439a0e",
   "metadata": {},
   "outputs": [
    {
     "name": "stdout",
     "output_type": "stream",
     "text": [
      "Enter 1st no before Swap 7\n",
      "Enter 2nd no before Swap 569\n",
      "569 7\n"
     ]
    }
   ],
   "source": [
    "x = int(input(\"Enter 1st no before Swap \"))\n",
    "y= int(input(\"Enter 2nd no before Swap \"))\n",
    "\n",
    "x,y = y,x\n",
    "\n",
    "print(x,y)"
   ]
  },
  {
   "cell_type": "code",
   "execution_count": null,
   "id": "0c6f9cb2",
   "metadata": {},
   "outputs": [],
   "source": []
  }
 ],
 "metadata": {
  "kernelspec": {
   "display_name": "Python 3 (ipykernel)",
   "language": "python",
   "name": "python3"
  },
  "language_info": {
   "codemirror_mode": {
    "name": "ipython",
    "version": 3
   },
   "file_extension": ".py",
   "mimetype": "text/x-python",
   "name": "python",
   "nbconvert_exporter": "python",
   "pygments_lexer": "ipython3",
   "version": "3.9.7"
  }
 },
 "nbformat": 4,
 "nbformat_minor": 5
}
