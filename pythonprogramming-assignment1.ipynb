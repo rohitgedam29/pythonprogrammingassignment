{
 "cells": [
  {
   "cell_type": "code",
   "execution_count": null,
   "id": "bd9bd0cb",
   "metadata": {},
   "outputs": [],
   "source": [
    "Que.1 Write a Python program to print \"Hello Python\"?\n",
    "\n",
    " "
   ]
  },
  {
   "cell_type": "code",
   "execution_count": 2,
   "id": "6b717d4b",
   "metadata": {},
   "outputs": [
    {
     "name": "stdout",
     "output_type": "stream",
     "text": [
      "Hello Python\n"
     ]
    }
   ],
   "source": [
    "print(\"Hello Python\")"
   ]
  },
  {
   "cell_type": "code",
   "execution_count": null,
   "id": "04e847ad",
   "metadata": {},
   "outputs": [],
   "source": [
    "Que.2 Write a Python program to do arithmetical operations addition and division.?\n",
    "\n"
   ]
  },
  {
   "cell_type": "code",
   "execution_count": 4,
   "id": "ef6859db",
   "metadata": {},
   "outputs": [
    {
     "name": "stdout",
     "output_type": "stream",
     "text": [
      "addition of a and b = 25\n",
      "when we divide a by b output = 4.0\n"
     ]
    }
   ],
   "source": [
    "a = 20\n",
    "b =  5\n",
    "\n",
    "#addition operation\n",
    "\n",
    "addition = a+b\n",
    "print(\"addition of a and b =\", addition)\n",
    "\n",
    "\n",
    "#division operation\n",
    "\n",
    "division = (a/b)\n",
    "print(\"when we divide a by b output =\",division)"
   ]
  },
  {
   "cell_type": "code",
   "execution_count": null,
   "id": "f78cb837",
   "metadata": {},
   "outputs": [],
   "source": [
    "Que 3. Write a Python program to find the area of a triangle?\n"
   ]
  },
  {
   "cell_type": "code",
   "execution_count": 8,
   "id": "c8e0fb9d",
   "metadata": {},
   "outputs": [
    {
     "name": "stdout",
     "output_type": "stream",
     "text": [
      "Area of the traingle with base=11 and height=10 = 55.0\n"
     ]
    }
   ],
   "source": [
    "b = 11  #base of a triangle in cms\n",
    "h = 10  #perpendicular height of a traingle in cms\n",
    "\n",
    "area = (1/2)*b*h\n",
    "\n",
    "print(\"Area of the traingle with base=11 and height=10 =\",area)"
   ]
  },
  {
   "cell_type": "code",
   "execution_count": null,
   "id": "3f9c87bb",
   "metadata": {},
   "outputs": [],
   "source": [
    "Que 4. Write a Python program to swap two variables?"
   ]
  },
  {
   "cell_type": "code",
   "execution_count": 10,
   "id": "6d069738",
   "metadata": {},
   "outputs": [
    {
     "name": "stdout",
     "output_type": "stream",
     "text": [
      "the value of x after swaping = 11\n",
      "the value of y after swaping = 5\n"
     ]
    }
   ],
   "source": [
    "x = 5\n",
    "y = 11\n",
    "\n",
    "temp = x #temperory variable to swap values\n",
    "x=y\n",
    "y=temp\n",
    "\n",
    "print(\"the value of x after swaping =\",x)\n",
    "print(\"the value of y after swaping =\",y)"
   ]
  },
  {
   "cell_type": "code",
   "execution_count": null,
   "id": "a7afc443",
   "metadata": {},
   "outputs": [],
   "source": [
    "5. Write a Python program to generate a random number?"
   ]
  },
  {
   "cell_type": "code",
   "execution_count": 12,
   "id": "59214520",
   "metadata": {},
   "outputs": [
    {
     "name": "stdout",
     "output_type": "stream",
     "text": [
      "70\n"
     ]
    }
   ],
   "source": [
    "#program to generate a random number between 0 and 99\n",
    "\n",
    "\n",
    "import random\n",
    "\n",
    "print(random.randint(0,99))"
   ]
  },
  {
   "cell_type": "code",
   "execution_count": null,
   "id": "e4e6b108",
   "metadata": {},
   "outputs": [],
   "source": []
  },
  {
   "cell_type": "code",
   "execution_count": null,
   "id": "fe881e8e",
   "metadata": {},
   "outputs": [],
   "source": [
    "\n"
   ]
  },
  {
   "cell_type": "code",
   "execution_count": null,
   "id": "03205fc2",
   "metadata": {},
   "outputs": [],
   "source": []
  },
  {
   "cell_type": "code",
   "execution_count": null,
   "id": "8f9dd22e",
   "metadata": {},
   "outputs": [],
   "source": []
  },
  {
   "cell_type": "code",
   "execution_count": null,
   "id": "e5dfd773",
   "metadata": {},
   "outputs": [],
   "source": []
  }
 ],
 "metadata": {
  "kernelspec": {
   "display_name": "Python 3 (ipykernel)",
   "language": "python",
   "name": "python3"
  },
  "language_info": {
   "codemirror_mode": {
    "name": "ipython",
    "version": 3
   },
   "file_extension": ".py",
   "mimetype": "text/x-python",
   "name": "python",
   "nbconvert_exporter": "python",
   "pygments_lexer": "ipython3",
   "version": "3.9.7"
  }
 },
 "nbformat": 4,
 "nbformat_minor": 5
}
