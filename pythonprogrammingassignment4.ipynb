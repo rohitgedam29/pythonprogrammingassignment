{
 "cells": [
  {
   "cell_type": "markdown",
   "id": "89d85b34",
   "metadata": {},
   "source": [
    "# Que 1. Write a Python Program to Find the Factorial of a Number?"
   ]
  },
  {
   "cell_type": "code",
   "execution_count": 3,
   "id": "1f01cc89",
   "metadata": {},
   "outputs": [
    {
     "name": "stdout",
     "output_type": "stream",
     "text": [
      "Enter any positive number - 5\n",
      "The factorial of 5 = 120\n"
     ]
    }
   ],
   "source": [
    "number =int(input(\"Enter any positive number - \"))\n",
    "\n",
    "factorial = 1\n",
    "\n",
    "if number == 0:\n",
    "    print(\"factorial of 0 is 1\")\n",
    "\n",
    "else:\n",
    "    for i in range(1,number+1):\n",
    "        factorial = factorial*i\n",
    "    print(\"The factorial of\",number,\"=\", factorial)    "
   ]
  },
  {
   "cell_type": "markdown",
   "id": "6e3daab3",
   "metadata": {},
   "source": [
    "# Que 2. Write a Python Program to Display the multiplication Table?"
   ]
  },
  {
   "cell_type": "code",
   "execution_count": 5,
   "id": "01b4681c",
   "metadata": {},
   "outputs": [
    {
     "name": "stdout",
     "output_type": "stream",
     "text": [
      "Enter any number - 45\n",
      "45 X 1 = 45\n",
      "45 X 2 = 90\n",
      "45 X 3 = 135\n",
      "45 X 4 = 180\n",
      "45 X 5 = 225\n",
      "45 X 6 = 270\n",
      "45 X 7 = 315\n",
      "45 X 8 = 360\n",
      "45 X 9 = 405\n",
      "45 X 10 = 450\n"
     ]
    }
   ],
   "source": [
    "num = int(input(\"Enter any number - \"))\n",
    "\n",
    "for i in range(1,11):\n",
    "    print(num,\"X\",i, \"=\", num*i)"
   ]
  },
  {
   "cell_type": "markdown",
   "id": "c7e24de3",
   "metadata": {},
   "source": [
    "# Que 3. Write a Python Program to Print the Fibonacci sequence?"
   ]
  },
  {
   "cell_type": "code",
   "execution_count": 7,
   "id": "768c5b85",
   "metadata": {},
   "outputs": [
    {
     "name": "stdout",
     "output_type": "stream",
     "text": [
      "enter number of terms - 11\n",
      "fibonacci sequence:-\n",
      "0\n",
      "1\n",
      "1\n",
      "2\n",
      "3\n",
      "5\n",
      "8\n",
      "13\n",
      "21\n",
      "34\n",
      "55\n"
     ]
    }
   ],
   "source": [
    "terms = int(input(\"enter number of terms - \"))\n",
    "\n",
    "n1,n2 = 0,1                    # first two terms\n",
    "count = 0\n",
    "\n",
    "if terms <=0:\n",
    "    print(\"enter a positive integer \")\n",
    "\n",
    "elif terms == 1:\n",
    "    print(\"fibonacci sequence upto\",nterms, \":\")\n",
    "    print(n1)\n",
    "    \n",
    "else:\n",
    "    print(\"fibonacci sequence:-\")\n",
    "    while count <terms:\n",
    "        print(n1)\n",
    "        nth = n1+n2\n",
    "        \n",
    "        n1 = n2\n",
    "        n2 = nth\n",
    "        count+=1"
   ]
  },
  {
   "cell_type": "markdown",
   "id": "ee8007de",
   "metadata": {},
   "source": [
    "# Que 4. Write a Python Program to Check Armstrong Number?"
   ]
  },
  {
   "cell_type": "code",
   "execution_count": 11,
   "id": "31819de0",
   "metadata": {},
   "outputs": [
    {
     "name": "stdout",
     "output_type": "stream",
     "text": [
      " Enter a number - 404\n",
      "404 is not an Armstrong number\n"
     ]
    }
   ],
   "source": [
    "num = int(input(\" Enter a number - \"))\n",
    "\n",
    "sum = 0\n",
    "\n",
    "temp = num\n",
    "while temp >0:\n",
    "    digit = temp%10\n",
    "    sum += digit**3\n",
    "    temp //= 10\n",
    "    \n",
    "if num == sum:\n",
    "    print(num,\" is an Armstrong number\")\n",
    "    \n",
    "else:\n",
    "    print(num,\"is not an Armstrong number\")"
   ]
  },
  {
   "cell_type": "markdown",
   "id": "2c1ffdd3",
   "metadata": {},
   "source": [
    "# Que 5. Write a Python Program to Find Armstrong Number in an Interval?"
   ]
  },
  {
   "cell_type": "code",
   "execution_count": 12,
   "id": "6fce3427",
   "metadata": {},
   "outputs": [
    {
     "name": "stdout",
     "output_type": "stream",
     "text": [
      "153\n",
      "370\n",
      "371\n",
      "407\n"
     ]
    }
   ],
   "source": [
    "lower = 100\n",
    "upper = 1000\n",
    "\n",
    "for num in range(lower,upper+1):\n",
    "    order = len(str(num))\n",
    "    \n",
    "    sum = 0\n",
    "    \n",
    "    temp = num\n",
    "    while temp >0:\n",
    "        digit = temp%10\n",
    "        sum  += digit**order\n",
    "        temp //= 10\n",
    "        \n",
    "    if num == sum:\n",
    "        print(num)\n"
   ]
  },
  {
   "cell_type": "markdown",
   "id": "8e054251",
   "metadata": {},
   "source": [
    "# Que 6. Write a Python Program to Find the Sum of Natural Numbers?"
   ]
  },
  {
   "cell_type": "code",
   "execution_count": 16,
   "id": "83a787ee",
   "metadata": {},
   "outputs": [
    {
     "name": "stdout",
     "output_type": "stream",
     "text": [
      "Enter a natural number upto which we want the sum - 22\n",
      "The sum is 253\n"
     ]
    }
   ],
   "source": [
    "num = int(input(\"Enter a natural number upto which we want the sum - \"))\n",
    "\n",
    "if num<0:\n",
    "    print(\"Enter a positive number\")\n",
    "else:\n",
    "    sum = 0\n",
    "    \n",
    "    while(num>0):\n",
    "        sum += num\n",
    "        num -= 1\n",
    "    print(\"The sum is\", sum)    "
   ]
  },
  {
   "cell_type": "code",
   "execution_count": null,
   "id": "bd739335",
   "metadata": {},
   "outputs": [],
   "source": []
  },
  {
   "cell_type": "code",
   "execution_count": null,
   "id": "0a4d4f86",
   "metadata": {},
   "outputs": [],
   "source": []
  },
  {
   "cell_type": "code",
   "execution_count": null,
   "id": "26389d6b",
   "metadata": {},
   "outputs": [],
   "source": []
  },
  {
   "cell_type": "code",
   "execution_count": null,
   "id": "996b8165",
   "metadata": {},
   "outputs": [],
   "source": []
  },
  {
   "cell_type": "code",
   "execution_count": null,
   "id": "0d21e240",
   "metadata": {},
   "outputs": [],
   "source": []
  }
 ],
 "metadata": {
  "kernelspec": {
   "display_name": "Python 3 (ipykernel)",
   "language": "python",
   "name": "python3"
  },
  "language_info": {
   "codemirror_mode": {
    "name": "ipython",
    "version": 3
   },
   "file_extension": ".py",
   "mimetype": "text/x-python",
   "name": "python",
   "nbconvert_exporter": "python",
   "pygments_lexer": "ipython3",
   "version": "3.9.7"
  }
 },
 "nbformat": 4,
 "nbformat_minor": 5
}
